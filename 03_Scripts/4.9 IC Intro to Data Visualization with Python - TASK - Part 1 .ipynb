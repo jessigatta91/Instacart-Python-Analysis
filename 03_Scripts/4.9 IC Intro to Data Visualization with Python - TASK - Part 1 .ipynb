{
 "cells": [
  {
   "cell_type": "markdown",
   "id": "d5132a84-f6c2-4c9d-a0c4-97e33c5119ac",
   "metadata": {},
   "source": [
    "# 4.9 TASK Part 1 "
   ]
  },
  {
   "cell_type": "markdown",
   "id": "37d6a6c8-fad6-4d05-838b-da110caa205f",
   "metadata": {},
   "source": [
    "#### Importing Libraries and Data"
   ]
  },
  {
   "cell_type": "code",
   "execution_count": 2,
   "id": "2ce0e828-46b2-42d9-8f2d-433ce845dc91",
   "metadata": {},
   "outputs": [],
   "source": [
    "# Import libraries\n",
    "import pandas as pd\n",
    "import numpy as np\n",
    "import os"
   ]
  },
  {
   "cell_type": "code",
   "execution_count": 3,
   "id": "c863694b-e924-4096-bdd1-48a0746c1c2f",
   "metadata": {},
   "outputs": [],
   "source": [
    "path = r'C:\\Users\\ophab\\Desktop\\JESSICA\\Careerfoundry JEJE\\Data Immersion\\09-2025 Instacart Basket Analysis'"
   ]
  },
  {
   "cell_type": "code",
   "execution_count": 4,
   "id": "a33812ee-1317-4614-b8e2-e3964ee74be7",
   "metadata": {},
   "outputs": [],
   "source": [
    "customers = pd.read_csv(os.path.join(path, '02 Data', 'Original Data', 'customers.csv'))"
   ]
  },
  {
   "cell_type": "code",
   "execution_count": 5,
   "id": "5df5b628-89cb-48cf-a6be-35c755bacdc9",
   "metadata": {},
   "outputs": [
    {
     "data": {
      "text/plain": [
       "(206209, 10)"
      ]
     },
     "execution_count": 5,
     "metadata": {},
     "output_type": "execute_result"
    }
   ],
   "source": [
    "customers.shape"
   ]
  },
  {
   "cell_type": "code",
   "execution_count": 7,
   "id": "a9306be8-76fe-4862-8b26-c84e607783fc",
   "metadata": {},
   "outputs": [
    {
     "data": {
      "text/html": [
       "<div>\n",
       "<style scoped>\n",
       "    .dataframe tbody tr th:only-of-type {\n",
       "        vertical-align: middle;\n",
       "    }\n",
       "\n",
       "    .dataframe tbody tr th {\n",
       "        vertical-align: top;\n",
       "    }\n",
       "\n",
       "    .dataframe thead th {\n",
       "        text-align: right;\n",
       "    }\n",
       "</style>\n",
       "<table border=\"1\" class=\"dataframe\">\n",
       "  <thead>\n",
       "    <tr style=\"text-align: right;\">\n",
       "      <th></th>\n",
       "      <th>user_id</th>\n",
       "      <th>First Name</th>\n",
       "      <th>Surnam</th>\n",
       "      <th>Gender</th>\n",
       "      <th>STATE</th>\n",
       "      <th>Age</th>\n",
       "      <th>date_joined</th>\n",
       "      <th>n_dependants</th>\n",
       "      <th>fam_status</th>\n",
       "      <th>income</th>\n",
       "    </tr>\n",
       "  </thead>\n",
       "  <tbody>\n",
       "    <tr>\n",
       "      <th>0</th>\n",
       "      <td>26711</td>\n",
       "      <td>Deborah</td>\n",
       "      <td>Esquivel</td>\n",
       "      <td>Female</td>\n",
       "      <td>Missouri</td>\n",
       "      <td>48</td>\n",
       "      <td>1/1/2017</td>\n",
       "      <td>3</td>\n",
       "      <td>married</td>\n",
       "      <td>165665</td>\n",
       "    </tr>\n",
       "    <tr>\n",
       "      <th>1</th>\n",
       "      <td>33890</td>\n",
       "      <td>Patricia</td>\n",
       "      <td>Hart</td>\n",
       "      <td>Female</td>\n",
       "      <td>New Mexico</td>\n",
       "      <td>36</td>\n",
       "      <td>1/1/2017</td>\n",
       "      <td>0</td>\n",
       "      <td>single</td>\n",
       "      <td>59285</td>\n",
       "    </tr>\n",
       "    <tr>\n",
       "      <th>2</th>\n",
       "      <td>65803</td>\n",
       "      <td>Kenneth</td>\n",
       "      <td>Farley</td>\n",
       "      <td>Male</td>\n",
       "      <td>Idaho</td>\n",
       "      <td>35</td>\n",
       "      <td>1/1/2017</td>\n",
       "      <td>2</td>\n",
       "      <td>married</td>\n",
       "      <td>99568</td>\n",
       "    </tr>\n",
       "    <tr>\n",
       "      <th>3</th>\n",
       "      <td>125935</td>\n",
       "      <td>Michelle</td>\n",
       "      <td>Hicks</td>\n",
       "      <td>Female</td>\n",
       "      <td>Iowa</td>\n",
       "      <td>40</td>\n",
       "      <td>1/1/2017</td>\n",
       "      <td>0</td>\n",
       "      <td>single</td>\n",
       "      <td>42049</td>\n",
       "    </tr>\n",
       "    <tr>\n",
       "      <th>4</th>\n",
       "      <td>130797</td>\n",
       "      <td>Ann</td>\n",
       "      <td>Gilmore</td>\n",
       "      <td>Female</td>\n",
       "      <td>Maryland</td>\n",
       "      <td>26</td>\n",
       "      <td>1/1/2017</td>\n",
       "      <td>1</td>\n",
       "      <td>married</td>\n",
       "      <td>40374</td>\n",
       "    </tr>\n",
       "  </tbody>\n",
       "</table>\n",
       "</div>"
      ],
      "text/plain": [
       "   user_id First Name    Surnam  Gender       STATE  Age date_joined  \\\n",
       "0    26711    Deborah  Esquivel  Female    Missouri   48    1/1/2017   \n",
       "1    33890   Patricia      Hart  Female  New Mexico   36    1/1/2017   \n",
       "2    65803    Kenneth    Farley    Male       Idaho   35    1/1/2017   \n",
       "3   125935   Michelle     Hicks  Female        Iowa   40    1/1/2017   \n",
       "4   130797        Ann   Gilmore  Female    Maryland   26    1/1/2017   \n",
       "\n",
       "   n_dependants fam_status  income  \n",
       "0             3    married  165665  \n",
       "1             0     single   59285  \n",
       "2             2    married   99568  \n",
       "3             0     single   42049  \n",
       "4             1    married   40374  "
      ]
     },
     "execution_count": 7,
     "metadata": {},
     "output_type": "execute_result"
    }
   ],
   "source": [
    "customers.head()"
   ]
  },
  {
   "cell_type": "code",
   "execution_count": 10,
   "id": "6cf9ad3e-1631-4a63-aa6b-b58717aa9554",
   "metadata": {},
   "outputs": [
    {
     "data": {
      "text/plain": [
       "user_id          int64\n",
       "First Name      object\n",
       "Surnam          object\n",
       "Gender          object\n",
       "STATE           object\n",
       "Age              int64\n",
       "date_joined     object\n",
       "n_dependants     int64\n",
       "fam_status      object\n",
       "income           int64\n",
       "dtype: object"
      ]
     },
     "execution_count": 10,
     "metadata": {},
     "output_type": "execute_result"
    }
   ],
   "source": [
    "customers.dtypes"
   ]
  },
  {
   "cell_type": "code",
   "execution_count": 11,
   "id": "d824c520-08ab-4014-953f-586e1bc1d9db",
   "metadata": {},
   "outputs": [
    {
     "name": "stdout",
     "output_type": "stream",
     "text": [
      "<class 'pandas.core.frame.DataFrame'>\n",
      "RangeIndex: 206209 entries, 0 to 206208\n",
      "Data columns (total 10 columns):\n",
      " #   Column        Non-Null Count   Dtype \n",
      "---  ------        --------------   ----- \n",
      " 0   user_id       206209 non-null  int64 \n",
      " 1   First Name    194950 non-null  object\n",
      " 2   Surnam        206209 non-null  object\n",
      " 3   Gender        206209 non-null  object\n",
      " 4   STATE         206209 non-null  object\n",
      " 5   Age           206209 non-null  int64 \n",
      " 6   date_joined   206209 non-null  object\n",
      " 7   n_dependants  206209 non-null  int64 \n",
      " 8   fam_status    206209 non-null  object\n",
      " 9   income        206209 non-null  int64 \n",
      "dtypes: int64(4), object(6)\n",
      "memory usage: 15.7+ MB\n"
     ]
    }
   ],
   "source": [
    "customers.info()"
   ]
  },
  {
   "cell_type": "markdown",
   "id": "3d43fb31-e280-459e-85cc-cf1e9db8b867",
   "metadata": {},
   "source": [
    "## Data Wrangling & Consistency Checks"
   ]
  },
  {
   "cell_type": "markdown",
   "id": "84631897-2eb0-4983-97bc-1dfc4334c89f",
   "metadata": {},
   "source": [
    "### Wrangle the data so that it follows consistent logic; for example, rename columns with illogical names and drop columns that don’t add anything to your analysis."
   ]
  },
  {
   "cell_type": "markdown",
   "id": "cc1778d3-195e-4fa3-9247-b99803adf2aa",
   "metadata": {},
   "source": [
    "### Complete the fundamental data quality and consistency checks you’ve learned throughout this Achievement; for example, check for and address missing values and duplicates, and convert any mixed-type data."
   ]
  },
  {
   "cell_type": "markdown",
   "id": "baeb30e5-b65a-4a70-bb71-b16e6882a052",
   "metadata": {},
   "source": [
    "### Dropping columns"
   ]
  },
  {
   "cell_type": "code",
   "execution_count": 12,
   "id": "b29027dd-b60c-4f2a-ba2e-805e9e9593f7",
   "metadata": {},
   "outputs": [],
   "source": [
    "customers.drop(columns=['First Name', 'Surnam'], inplace=True)"
   ]
  },
  {
   "cell_type": "code",
   "execution_count": 13,
   "id": "5ef135fe-0caa-4687-b2a1-d2a72515f25a",
   "metadata": {},
   "outputs": [
    {
     "data": {
      "text/html": [
       "<div>\n",
       "<style scoped>\n",
       "    .dataframe tbody tr th:only-of-type {\n",
       "        vertical-align: middle;\n",
       "    }\n",
       "\n",
       "    .dataframe tbody tr th {\n",
       "        vertical-align: top;\n",
       "    }\n",
       "\n",
       "    .dataframe thead th {\n",
       "        text-align: right;\n",
       "    }\n",
       "</style>\n",
       "<table border=\"1\" class=\"dataframe\">\n",
       "  <thead>\n",
       "    <tr style=\"text-align: right;\">\n",
       "      <th></th>\n",
       "      <th>user_id</th>\n",
       "      <th>Gender</th>\n",
       "      <th>STATE</th>\n",
       "      <th>Age</th>\n",
       "      <th>date_joined</th>\n",
       "      <th>n_dependants</th>\n",
       "      <th>fam_status</th>\n",
       "      <th>income</th>\n",
       "    </tr>\n",
       "  </thead>\n",
       "  <tbody>\n",
       "    <tr>\n",
       "      <th>0</th>\n",
       "      <td>26711</td>\n",
       "      <td>Female</td>\n",
       "      <td>Missouri</td>\n",
       "      <td>48</td>\n",
       "      <td>1/1/2017</td>\n",
       "      <td>3</td>\n",
       "      <td>married</td>\n",
       "      <td>165665</td>\n",
       "    </tr>\n",
       "    <tr>\n",
       "      <th>1</th>\n",
       "      <td>33890</td>\n",
       "      <td>Female</td>\n",
       "      <td>New Mexico</td>\n",
       "      <td>36</td>\n",
       "      <td>1/1/2017</td>\n",
       "      <td>0</td>\n",
       "      <td>single</td>\n",
       "      <td>59285</td>\n",
       "    </tr>\n",
       "    <tr>\n",
       "      <th>2</th>\n",
       "      <td>65803</td>\n",
       "      <td>Male</td>\n",
       "      <td>Idaho</td>\n",
       "      <td>35</td>\n",
       "      <td>1/1/2017</td>\n",
       "      <td>2</td>\n",
       "      <td>married</td>\n",
       "      <td>99568</td>\n",
       "    </tr>\n",
       "    <tr>\n",
       "      <th>3</th>\n",
       "      <td>125935</td>\n",
       "      <td>Female</td>\n",
       "      <td>Iowa</td>\n",
       "      <td>40</td>\n",
       "      <td>1/1/2017</td>\n",
       "      <td>0</td>\n",
       "      <td>single</td>\n",
       "      <td>42049</td>\n",
       "    </tr>\n",
       "    <tr>\n",
       "      <th>4</th>\n",
       "      <td>130797</td>\n",
       "      <td>Female</td>\n",
       "      <td>Maryland</td>\n",
       "      <td>26</td>\n",
       "      <td>1/1/2017</td>\n",
       "      <td>1</td>\n",
       "      <td>married</td>\n",
       "      <td>40374</td>\n",
       "    </tr>\n",
       "  </tbody>\n",
       "</table>\n",
       "</div>"
      ],
      "text/plain": [
       "   user_id  Gender       STATE  Age date_joined  n_dependants fam_status  \\\n",
       "0    26711  Female    Missouri   48    1/1/2017             3    married   \n",
       "1    33890  Female  New Mexico   36    1/1/2017             0     single   \n",
       "2    65803    Male       Idaho   35    1/1/2017             2    married   \n",
       "3   125935  Female        Iowa   40    1/1/2017             0     single   \n",
       "4   130797  Female    Maryland   26    1/1/2017             1    married   \n",
       "\n",
       "   income  \n",
       "0  165665  \n",
       "1   59285  \n",
       "2   99568  \n",
       "3   42049  \n",
       "4   40374  "
      ]
     },
     "execution_count": 13,
     "metadata": {},
     "output_type": "execute_result"
    }
   ],
   "source": [
    "customers.head()"
   ]
  },
  {
   "cell_type": "code",
   "execution_count": 14,
   "id": "a1b2aa17-16d6-4c3a-98c5-88bfcd4b452f",
   "metadata": {},
   "outputs": [
    {
     "name": "stdout",
     "output_type": "stream",
     "text": [
      "<class 'pandas.core.frame.DataFrame'>\n",
      "RangeIndex: 206209 entries, 0 to 206208\n",
      "Data columns (total 8 columns):\n",
      " #   Column        Non-Null Count   Dtype \n",
      "---  ------        --------------   ----- \n",
      " 0   user_id       206209 non-null  int64 \n",
      " 1   Gender        206209 non-null  object\n",
      " 2   STATE         206209 non-null  object\n",
      " 3   Age           206209 non-null  int64 \n",
      " 4   date_joined   206209 non-null  object\n",
      " 5   n_dependants  206209 non-null  int64 \n",
      " 6   fam_status    206209 non-null  object\n",
      " 7   income        206209 non-null  int64 \n",
      "dtypes: int64(4), object(4)\n",
      "memory usage: 12.6+ MB\n"
     ]
    }
   ],
   "source": [
    "customers.info()"
   ]
  },
  {
   "cell_type": "markdown",
   "id": "26fe11b6-6e3d-461a-ae41-6cb08d05b9a3",
   "metadata": {},
   "source": [
    "##### I decided to drop the First Name and Surname columns from the customers dataframe because these columns contain missing values and are not relevant for the analysis. The focus of this project is on customer demographics, behavior, and spending patterns, so personally identifying information like names is not needed. Dropping these columns simplifies the dataframe and ensures we only keep the data that contributes to the analytical objectives."
   ]
  },
  {
   "cell_type": "markdown",
   "id": "fc6cc0bd-9084-4028-a354-2a03811ad0fd",
   "metadata": {},
   "source": [
    "### Missing Values"
   ]
  },
  {
   "cell_type": "code",
   "execution_count": 20,
   "id": "d13fd012-eb8f-43ba-9048-a6c045e528a5",
   "metadata": {},
   "outputs": [
    {
     "data": {
      "text/plain": [
       "user_id         0\n",
       "gender          0\n",
       "state           0\n",
       "age             0\n",
       "date_joined     0\n",
       "n_dependants    0\n",
       "fam_status      0\n",
       "income          0\n",
       "dtype: int64"
      ]
     },
     "execution_count": 20,
     "metadata": {},
     "output_type": "execute_result"
    }
   ],
   "source": [
    "customers.isnull().sum()"
   ]
  },
  {
   "cell_type": "markdown",
   "id": "68c5d790-e828-40b4-8b79-4f3150e2eda7",
   "metadata": {},
   "source": [
    "##### No missing values found."
   ]
  },
  {
   "cell_type": "markdown",
   "id": "e5c8424e-2e40-43bc-9d87-c5b344437d99",
   "metadata": {},
   "source": [
    "### Renaming Columns"
   ]
  },
  {
   "cell_type": "code",
   "execution_count": 16,
   "id": "56b5fe70-949f-4d80-ae18-e2d87345fd7d",
   "metadata": {},
   "outputs": [],
   "source": [
    "customers.rename(columns={'Gender': 'gender','STATE': 'state','Age': 'age',}, inplace=True)"
   ]
  },
  {
   "cell_type": "code",
   "execution_count": 17,
   "id": "9cfbf7fc-2e9f-45e3-8e3f-9fb988c3b1ca",
   "metadata": {},
   "outputs": [
    {
     "data": {
      "text/html": [
       "<div>\n",
       "<style scoped>\n",
       "    .dataframe tbody tr th:only-of-type {\n",
       "        vertical-align: middle;\n",
       "    }\n",
       "\n",
       "    .dataframe tbody tr th {\n",
       "        vertical-align: top;\n",
       "    }\n",
       "\n",
       "    .dataframe thead th {\n",
       "        text-align: right;\n",
       "    }\n",
       "</style>\n",
       "<table border=\"1\" class=\"dataframe\">\n",
       "  <thead>\n",
       "    <tr style=\"text-align: right;\">\n",
       "      <th></th>\n",
       "      <th>user_id</th>\n",
       "      <th>gender</th>\n",
       "      <th>state</th>\n",
       "      <th>age</th>\n",
       "      <th>date_joined</th>\n",
       "      <th>n_dependants</th>\n",
       "      <th>fam_status</th>\n",
       "      <th>income</th>\n",
       "    </tr>\n",
       "  </thead>\n",
       "  <tbody>\n",
       "    <tr>\n",
       "      <th>0</th>\n",
       "      <td>26711</td>\n",
       "      <td>Female</td>\n",
       "      <td>Missouri</td>\n",
       "      <td>48</td>\n",
       "      <td>1/1/2017</td>\n",
       "      <td>3</td>\n",
       "      <td>married</td>\n",
       "      <td>165665</td>\n",
       "    </tr>\n",
       "    <tr>\n",
       "      <th>1</th>\n",
       "      <td>33890</td>\n",
       "      <td>Female</td>\n",
       "      <td>New Mexico</td>\n",
       "      <td>36</td>\n",
       "      <td>1/1/2017</td>\n",
       "      <td>0</td>\n",
       "      <td>single</td>\n",
       "      <td>59285</td>\n",
       "    </tr>\n",
       "    <tr>\n",
       "      <th>2</th>\n",
       "      <td>65803</td>\n",
       "      <td>Male</td>\n",
       "      <td>Idaho</td>\n",
       "      <td>35</td>\n",
       "      <td>1/1/2017</td>\n",
       "      <td>2</td>\n",
       "      <td>married</td>\n",
       "      <td>99568</td>\n",
       "    </tr>\n",
       "    <tr>\n",
       "      <th>3</th>\n",
       "      <td>125935</td>\n",
       "      <td>Female</td>\n",
       "      <td>Iowa</td>\n",
       "      <td>40</td>\n",
       "      <td>1/1/2017</td>\n",
       "      <td>0</td>\n",
       "      <td>single</td>\n",
       "      <td>42049</td>\n",
       "    </tr>\n",
       "    <tr>\n",
       "      <th>4</th>\n",
       "      <td>130797</td>\n",
       "      <td>Female</td>\n",
       "      <td>Maryland</td>\n",
       "      <td>26</td>\n",
       "      <td>1/1/2017</td>\n",
       "      <td>1</td>\n",
       "      <td>married</td>\n",
       "      <td>40374</td>\n",
       "    </tr>\n",
       "  </tbody>\n",
       "</table>\n",
       "</div>"
      ],
      "text/plain": [
       "   user_id  gender       state  age date_joined  n_dependants fam_status  \\\n",
       "0    26711  Female    Missouri   48    1/1/2017             3    married   \n",
       "1    33890  Female  New Mexico   36    1/1/2017             0     single   \n",
       "2    65803    Male       Idaho   35    1/1/2017             2    married   \n",
       "3   125935  Female        Iowa   40    1/1/2017             0     single   \n",
       "4   130797  Female    Maryland   26    1/1/2017             1    married   \n",
       "\n",
       "   income  \n",
       "0  165665  \n",
       "1   59285  \n",
       "2   99568  \n",
       "3   42049  \n",
       "4   40374  "
      ]
     },
     "execution_count": 17,
     "metadata": {},
     "output_type": "execute_result"
    }
   ],
   "source": [
    "customers.head()"
   ]
  },
  {
   "cell_type": "markdown",
   "id": "8a2715cc-6066-4a10-80d9-5dc0ba573da4",
   "metadata": {},
   "source": [
    "##### I renamed the columns Gender, STATE, and Age to gender, state, and age respectively to standardize the column names. Using lowercase and consistent naming conventions improves readability, makes coding easier, and ensures consistency throughout the analysis. This step does not change the data itself, only the labels for clarity and better workflow management."
   ]
  },
  {
   "cell_type": "markdown",
   "id": "bf745282-4c83-454c-9388-a6d9b662ed7f",
   "metadata": {},
   "source": [
    "### Changing Data Type"
   ]
  },
  {
   "cell_type": "code",
   "execution_count": 18,
   "id": "4c017062-4501-4347-8b12-ee19bcdb923b",
   "metadata": {},
   "outputs": [],
   "source": [
    "customers['user_id'] = customers['user_id'].astype(str)"
   ]
  },
  {
   "cell_type": "code",
   "execution_count": 19,
   "id": "4f371565-cd8c-4067-be5e-7d9cc10571aa",
   "metadata": {},
   "outputs": [
    {
     "name": "stdout",
     "output_type": "stream",
     "text": [
      "<class 'pandas.core.frame.DataFrame'>\n",
      "RangeIndex: 206209 entries, 0 to 206208\n",
      "Data columns (total 8 columns):\n",
      " #   Column        Non-Null Count   Dtype \n",
      "---  ------        --------------   ----- \n",
      " 0   user_id       206209 non-null  object\n",
      " 1   gender        206209 non-null  object\n",
      " 2   state         206209 non-null  object\n",
      " 3   age           206209 non-null  int64 \n",
      " 4   date_joined   206209 non-null  object\n",
      " 5   n_dependants  206209 non-null  int64 \n",
      " 6   fam_status    206209 non-null  object\n",
      " 7   income        206209 non-null  int64 \n",
      "dtypes: int64(3), object(5)\n",
      "memory usage: 12.6+ MB\n"
     ]
    }
   ],
   "source": [
    "customers.info()"
   ]
  },
  {
   "cell_type": "markdown",
   "id": "3a8e1ee0-e659-4ba4-9eb2-da46cad7014c",
   "metadata": {},
   "source": [
    "##### I converted the user_id column from integer to string to ensure consistency across all dataframes. This simplifies merging operations and prevents potential type mismatch issues when combining customer data with other datasets. The conversion does not alter the actual IDs, only their data type for easier handling."
   ]
  },
  {
   "cell_type": "markdown",
   "id": "a4bf1864-be9a-4ed6-974f-27b2d7ff3ad7",
   "metadata": {},
   "source": [
    "### Investigating Mixed-Type Columns"
   ]
  },
  {
   "cell_type": "code",
   "execution_count": 22,
   "id": "daed9bf8-7962-4311-ad26-25b1e0a902af",
   "metadata": {},
   "outputs": [],
   "source": [
    "for col in customers.columns.tolist():\n",
    "  weird = (customers[[col]].map(type) != customers[[col]].iloc[0].apply(type)).any(axis = 1)\n",
    "  if len (customers[weird]) > 0:\n",
    "    print (col)"
   ]
  },
  {
   "cell_type": "markdown",
   "id": "7ec2ae9e-ee2a-497b-ad9a-34a84ffd5fb7",
   "metadata": {},
   "source": [
    "##### None found"
   ]
  },
  {
   "cell_type": "markdown",
   "id": "ed6f1434-aeae-4dae-b46d-dcfa5cb8e3f0",
   "metadata": {},
   "source": [
    "### Duplicates"
   ]
  },
  {
   "cell_type": "code",
   "execution_count": 23,
   "id": "fb2e3fe1-818c-4d80-b132-91275f424c9c",
   "metadata": {},
   "outputs": [
    {
     "data": {
      "text/html": [
       "<div>\n",
       "<style scoped>\n",
       "    .dataframe tbody tr th:only-of-type {\n",
       "        vertical-align: middle;\n",
       "    }\n",
       "\n",
       "    .dataframe tbody tr th {\n",
       "        vertical-align: top;\n",
       "    }\n",
       "\n",
       "    .dataframe thead th {\n",
       "        text-align: right;\n",
       "    }\n",
       "</style>\n",
       "<table border=\"1\" class=\"dataframe\">\n",
       "  <thead>\n",
       "    <tr style=\"text-align: right;\">\n",
       "      <th></th>\n",
       "      <th>user_id</th>\n",
       "      <th>gender</th>\n",
       "      <th>state</th>\n",
       "      <th>age</th>\n",
       "      <th>date_joined</th>\n",
       "      <th>n_dependants</th>\n",
       "      <th>fam_status</th>\n",
       "      <th>income</th>\n",
       "    </tr>\n",
       "  </thead>\n",
       "  <tbody>\n",
       "  </tbody>\n",
       "</table>\n",
       "</div>"
      ],
      "text/plain": [
       "Empty DataFrame\n",
       "Columns: [user_id, gender, state, age, date_joined, n_dependants, fam_status, income]\n",
       "Index: []"
      ]
     },
     "execution_count": 23,
     "metadata": {},
     "output_type": "execute_result"
    }
   ],
   "source": [
    "customers[customers.duplicated(subset=['user_id'], keep=False)]"
   ]
  },
  {
   "cell_type": "markdown",
   "id": "89f10f8f-dcd9-4937-8e40-db9e6b6759a7",
   "metadata": {},
   "source": [
    "##### I checked for duplicates in the user_id column because it serves as the unique identifier for each customer, while other columns like gender, state, or age can naturally have repeated values. No duplicates were found, which confirms that each customer has a unique ID. This ensures accurate merging with other datasets and reliable calculation of customer-level metrics, avoiding potential errors caused by duplicate IDs."
   ]
  },
  {
   "cell_type": "markdown",
   "id": "50806f46-89a7-45ee-a3ea-c9ae7f6858eb",
   "metadata": {},
   "source": [
    "## End of Data Wrangling & COnsistency Checks"
   ]
  },
  {
   "cell_type": "markdown",
   "id": "2f35a52d-8391-4760-a60c-4a5164f90756",
   "metadata": {},
   "source": [
    "## Combine your customer data with the rest of your prepared Instacart data. (Hint: Make sure the key columns are the same data type!)"
   ]
  },
  {
   "cell_type": "code",
   "execution_count": 24,
   "id": "c240654c-1383-4833-92cd-8ddf1f20b8ff",
   "metadata": {},
   "outputs": [],
   "source": [
    "# Import dataframe for merging\n",
    "ords_prods_merge = pd.read_pickle(os.path.join(path, '02 Data','Prepared Data', 'ords_prods_merge_grouping_REVISED.pkl'))"
   ]
  },
  {
   "cell_type": "code",
   "execution_count": 26,
   "id": "b600542c-1940-4bb0-8b1b-cb1dc7d6bd66",
   "metadata": {},
   "outputs": [
    {
     "name": "stdout",
     "output_type": "stream",
     "text": [
      "<class 'pandas.core.frame.DataFrame'>\n",
      "RangeIndex: 32404859 entries, 0 to 32404858\n",
      "Data columns (total 25 columns):\n",
      " #   Column                  Dtype   \n",
      "---  ------                  -----   \n",
      " 0   Unnamed: 0_x            int64   \n",
      " 1   order_id                int64   \n",
      " 2   user_id                 int64   \n",
      " 3   eval_set                object  \n",
      " 4   order_number            int64   \n",
      " 5   orders_day_of_week      int64   \n",
      " 6   order_hour_of_day       int64   \n",
      " 7   days_since_prior_order  float64 \n",
      " 8   product_id              int64   \n",
      " 9   add_to_cart_order       int64   \n",
      " 10  reordered               int64   \n",
      " 11  _merge                  category\n",
      " 12  Unnamed: 0_y            int64   \n",
      " 13  product_name            object  \n",
      " 14  aisle_id                int64   \n",
      " 15  department_id           int64   \n",
      " 16  prices                  float64 \n",
      " 17  merge_flag              category\n",
      " 18  price_range             object  \n",
      " 19  busiest_day             object  \n",
      " 20  day_category            object  \n",
      " 21  busiest_period_of_day   object  \n",
      " 22  loyalty_flag            object  \n",
      " 23  max_order               int64   \n",
      " 24  order_frequency_flag    object  \n",
      "dtypes: category(2), float64(2), int64(13), object(8)\n",
      "memory usage: 5.6+ GB\n"
     ]
    }
   ],
   "source": [
    "ords_prods_merge.info()"
   ]
  },
  {
   "cell_type": "markdown",
   "id": "f5bd44fe-2851-41c1-a900-f5a44a87bab6",
   "metadata": {},
   "source": [
    "### Wrangling and Consistency on New Imported Dataframe "
   ]
  },
  {
   "cell_type": "code",
   "execution_count": 28,
   "id": "4dad537e-2b74-4736-adb2-b4861990f01b",
   "metadata": {},
   "outputs": [],
   "source": [
    "# Dropping unwanted columns\n",
    "cols_to_drop = ['Unnamed: 0_x', 'eval_set', '_merge', 'Unnamed: 0_y', 'merge_flag']\n",
    "ords_prods_merge.drop(columns=cols_to_drop, inplace=True)"
   ]
  },
  {
   "cell_type": "code",
   "execution_count": 29,
   "id": "8b62973a-3425-416f-9ec5-3b64983a3e28",
   "metadata": {},
   "outputs": [
    {
     "name": "stdout",
     "output_type": "stream",
     "text": [
      "<class 'pandas.core.frame.DataFrame'>\n",
      "RangeIndex: 32404859 entries, 0 to 32404858\n",
      "Data columns (total 20 columns):\n",
      " #   Column                  Dtype  \n",
      "---  ------                  -----  \n",
      " 0   order_id                int64  \n",
      " 1   user_id                 int64  \n",
      " 2   order_number            int64  \n",
      " 3   orders_day_of_week      int64  \n",
      " 4   order_hour_of_day       int64  \n",
      " 5   days_since_prior_order  float64\n",
      " 6   product_id              int64  \n",
      " 7   add_to_cart_order       int64  \n",
      " 8   reordered               int64  \n",
      " 9   product_name            object \n",
      " 10  aisle_id                int64  \n",
      " 11  department_id           int64  \n",
      " 12  prices                  float64\n",
      " 13  price_range             object \n",
      " 14  busiest_day             object \n",
      " 15  day_category            object \n",
      " 16  busiest_period_of_day   object \n",
      " 17  loyalty_flag            object \n",
      " 18  max_order               int64  \n",
      " 19  order_frequency_flag    object \n",
      "dtypes: float64(2), int64(11), object(7)\n",
      "memory usage: 4.8+ GB\n"
     ]
    }
   ],
   "source": [
    "ords_prods_merge.info()"
   ]
  },
  {
   "cell_type": "code",
   "execution_count": 30,
   "id": "ee658d8c-4436-421b-8437-67e289230fd8",
   "metadata": {},
   "outputs": [],
   "source": [
    "# Convert Datatypes\n",
    "ords_prods_merge['order_id'] = ords_prods_merge['order_id'].astype(str)\n",
    "ords_prods_merge['user_id'] = ords_prods_merge['user_id'].astype(str)\n",
    "ords_prods_merge['product_id'] = ords_prods_merge['product_id'].astype(str)"
   ]
  },
  {
   "cell_type": "code",
   "execution_count": 31,
   "id": "2d06a03c-dc01-433a-b0be-4dab95353a06",
   "metadata": {},
   "outputs": [
    {
     "data": {
      "text/html": [
       "<div>\n",
       "<style scoped>\n",
       "    .dataframe tbody tr th:only-of-type {\n",
       "        vertical-align: middle;\n",
       "    }\n",
       "\n",
       "    .dataframe tbody tr th {\n",
       "        vertical-align: top;\n",
       "    }\n",
       "\n",
       "    .dataframe thead th {\n",
       "        text-align: right;\n",
       "    }\n",
       "</style>\n",
       "<table border=\"1\" class=\"dataframe\">\n",
       "  <thead>\n",
       "    <tr style=\"text-align: right;\">\n",
       "      <th></th>\n",
       "      <th>order_number</th>\n",
       "      <th>orders_day_of_week</th>\n",
       "      <th>order_hour_of_day</th>\n",
       "      <th>days_since_prior_order</th>\n",
       "      <th>add_to_cart_order</th>\n",
       "      <th>reordered</th>\n",
       "      <th>aisle_id</th>\n",
       "      <th>department_id</th>\n",
       "      <th>prices</th>\n",
       "      <th>max_order</th>\n",
       "    </tr>\n",
       "  </thead>\n",
       "  <tbody>\n",
       "    <tr>\n",
       "      <th>count</th>\n",
       "      <td>3.240486e+07</td>\n",
       "      <td>3.240486e+07</td>\n",
       "      <td>3.240486e+07</td>\n",
       "      <td>3.032876e+07</td>\n",
       "      <td>3.240486e+07</td>\n",
       "      <td>3.240486e+07</td>\n",
       "      <td>3.240486e+07</td>\n",
       "      <td>3.240486e+07</td>\n",
       "      <td>3.239973e+07</td>\n",
       "      <td>3.240486e+07</td>\n",
       "    </tr>\n",
       "    <tr>\n",
       "      <th>mean</th>\n",
       "      <td>1.714230e+01</td>\n",
       "      <td>2.738867e+00</td>\n",
       "      <td>1.342515e+01</td>\n",
       "      <td>1.110408e+01</td>\n",
       "      <td>8.352547e+00</td>\n",
       "      <td>5.895873e-01</td>\n",
       "      <td>7.119612e+01</td>\n",
       "      <td>9.919792e+00</td>\n",
       "      <td>7.790994e+00</td>\n",
       "      <td>3.305217e+01</td>\n",
       "    </tr>\n",
       "    <tr>\n",
       "      <th>std</th>\n",
       "      <td>1.753532e+01</td>\n",
       "      <td>2.090077e+00</td>\n",
       "      <td>4.246380e+00</td>\n",
       "      <td>8.779064e+00</td>\n",
       "      <td>7.127071e+00</td>\n",
       "      <td>4.919087e-01</td>\n",
       "      <td>3.821139e+01</td>\n",
       "      <td>6.281485e+00</td>\n",
       "      <td>4.241809e+00</td>\n",
       "      <td>2.515525e+01</td>\n",
       "    </tr>\n",
       "    <tr>\n",
       "      <th>min</th>\n",
       "      <td>1.000000e+00</td>\n",
       "      <td>0.000000e+00</td>\n",
       "      <td>0.000000e+00</td>\n",
       "      <td>0.000000e+00</td>\n",
       "      <td>1.000000e+00</td>\n",
       "      <td>0.000000e+00</td>\n",
       "      <td>1.000000e+00</td>\n",
       "      <td>1.000000e+00</td>\n",
       "      <td>1.000000e+00</td>\n",
       "      <td>1.000000e+00</td>\n",
       "    </tr>\n",
       "    <tr>\n",
       "      <th>25%</th>\n",
       "      <td>5.000000e+00</td>\n",
       "      <td>1.000000e+00</td>\n",
       "      <td>1.000000e+01</td>\n",
       "      <td>5.000000e+00</td>\n",
       "      <td>3.000000e+00</td>\n",
       "      <td>0.000000e+00</td>\n",
       "      <td>3.100000e+01</td>\n",
       "      <td>4.000000e+00</td>\n",
       "      <td>4.200000e+00</td>\n",
       "      <td>1.300000e+01</td>\n",
       "    </tr>\n",
       "    <tr>\n",
       "      <th>50%</th>\n",
       "      <td>1.100000e+01</td>\n",
       "      <td>3.000000e+00</td>\n",
       "      <td>1.300000e+01</td>\n",
       "      <td>8.000000e+00</td>\n",
       "      <td>6.000000e+00</td>\n",
       "      <td>1.000000e+00</td>\n",
       "      <td>8.300000e+01</td>\n",
       "      <td>9.000000e+00</td>\n",
       "      <td>7.400000e+00</td>\n",
       "      <td>2.600000e+01</td>\n",
       "    </tr>\n",
       "    <tr>\n",
       "      <th>75%</th>\n",
       "      <td>2.400000e+01</td>\n",
       "      <td>5.000000e+00</td>\n",
       "      <td>1.600000e+01</td>\n",
       "      <td>1.500000e+01</td>\n",
       "      <td>1.100000e+01</td>\n",
       "      <td>1.000000e+00</td>\n",
       "      <td>1.070000e+02</td>\n",
       "      <td>1.600000e+01</td>\n",
       "      <td>1.130000e+01</td>\n",
       "      <td>4.700000e+01</td>\n",
       "    </tr>\n",
       "    <tr>\n",
       "      <th>max</th>\n",
       "      <td>9.900000e+01</td>\n",
       "      <td>6.000000e+00</td>\n",
       "      <td>2.300000e+01</td>\n",
       "      <td>3.000000e+01</td>\n",
       "      <td>1.450000e+02</td>\n",
       "      <td>1.000000e+00</td>\n",
       "      <td>1.340000e+02</td>\n",
       "      <td>2.100000e+01</td>\n",
       "      <td>2.500000e+01</td>\n",
       "      <td>9.900000e+01</td>\n",
       "    </tr>\n",
       "  </tbody>\n",
       "</table>\n",
       "</div>"
      ],
      "text/plain": [
       "       order_number  orders_day_of_week  order_hour_of_day  \\\n",
       "count  3.240486e+07        3.240486e+07       3.240486e+07   \n",
       "mean   1.714230e+01        2.738867e+00       1.342515e+01   \n",
       "std    1.753532e+01        2.090077e+00       4.246380e+00   \n",
       "min    1.000000e+00        0.000000e+00       0.000000e+00   \n",
       "25%    5.000000e+00        1.000000e+00       1.000000e+01   \n",
       "50%    1.100000e+01        3.000000e+00       1.300000e+01   \n",
       "75%    2.400000e+01        5.000000e+00       1.600000e+01   \n",
       "max    9.900000e+01        6.000000e+00       2.300000e+01   \n",
       "\n",
       "       days_since_prior_order  add_to_cart_order     reordered      aisle_id  \\\n",
       "count            3.032876e+07       3.240486e+07  3.240486e+07  3.240486e+07   \n",
       "mean             1.110408e+01       8.352547e+00  5.895873e-01  7.119612e+01   \n",
       "std              8.779064e+00       7.127071e+00  4.919087e-01  3.821139e+01   \n",
       "min              0.000000e+00       1.000000e+00  0.000000e+00  1.000000e+00   \n",
       "25%              5.000000e+00       3.000000e+00  0.000000e+00  3.100000e+01   \n",
       "50%              8.000000e+00       6.000000e+00  1.000000e+00  8.300000e+01   \n",
       "75%              1.500000e+01       1.100000e+01  1.000000e+00  1.070000e+02   \n",
       "max              3.000000e+01       1.450000e+02  1.000000e+00  1.340000e+02   \n",
       "\n",
       "       department_id        prices     max_order  \n",
       "count   3.240486e+07  3.239973e+07  3.240486e+07  \n",
       "mean    9.919792e+00  7.790994e+00  3.305217e+01  \n",
       "std     6.281485e+00  4.241809e+00  2.515525e+01  \n",
       "min     1.000000e+00  1.000000e+00  1.000000e+00  \n",
       "25%     4.000000e+00  4.200000e+00  1.300000e+01  \n",
       "50%     9.000000e+00  7.400000e+00  2.600000e+01  \n",
       "75%     1.600000e+01  1.130000e+01  4.700000e+01  \n",
       "max     2.100000e+01  2.500000e+01  9.900000e+01  "
      ]
     },
     "execution_count": 31,
     "metadata": {},
     "output_type": "execute_result"
    }
   ],
   "source": [
    "# Check numeric columns for consistency\n",
    "ords_prods_merge[['order_number','orders_day_of_week','order_hour_of_day','days_since_prior_order',\n",
    "                  'add_to_cart_order','reordered','aisle_id','department_id','prices','max_order']].describe()"
   ]
  },
  {
   "cell_type": "code",
   "execution_count": 33,
   "id": "3af830fb-f6b0-4deb-b842-abc1cbe29a36",
   "metadata": {},
   "outputs": [
    {
     "name": "stdout",
     "output_type": "stream",
     "text": [
      "<class 'pandas.core.frame.DataFrame'>\n",
      "RangeIndex: 32404859 entries, 0 to 32404858\n",
      "Data columns (total 20 columns):\n",
      " #   Column                  Dtype  \n",
      "---  ------                  -----  \n",
      " 0   order_id                object \n",
      " 1   user_id                 object \n",
      " 2   order_number            int64  \n",
      " 3   orders_day_of_week      int64  \n",
      " 4   order_hour_of_day       int64  \n",
      " 5   days_since_prior_order  float64\n",
      " 6   product_id              object \n",
      " 7   add_to_cart_order       int64  \n",
      " 8   reordered               int64  \n",
      " 9   product_name            object \n",
      " 10  aisle_id                int64  \n",
      " 11  department_id           int64  \n",
      " 12  prices                  float64\n",
      " 13  price_range             object \n",
      " 14  busiest_day             object \n",
      " 15  day_category            object \n",
      " 16  busiest_period_of_day   object \n",
      " 17  loyalty_flag            object \n",
      " 18  max_order               int64  \n",
      " 19  order_frequency_flag    object \n",
      "dtypes: float64(2), int64(8), object(10)\n",
      "memory usage: 4.8+ GB\n"
     ]
    }
   ],
   "source": [
    "ords_prods_merge.info()"
   ]
  },
  {
   "cell_type": "code",
   "execution_count": 34,
   "id": "76a4a9a7-7f3b-4fd2-a849-4c924dcffbca",
   "metadata": {},
   "outputs": [],
   "source": [
    "# Convert numeric IDs to category \n",
    "ords_prods_merge['aisle_id'] = ords_prods_merge['aisle_id'].astype('category')\n",
    "ords_prods_merge['department_id'] = ords_prods_merge['department_id'].astype('category')"
   ]
  },
  {
   "cell_type": "code",
   "execution_count": 35,
   "id": "62967cb5-8329-4fce-b73b-d957f230578d",
   "metadata": {},
   "outputs": [],
   "source": [
    "# Convert day/hour to category for grouping\n",
    "ords_prods_merge['orders_day_of_week'] = ords_prods_merge['orders_day_of_week'].astype('category')\n",
    "ords_prods_merge['order_hour_of_day'] = ords_prods_merge['order_hour_of_day'].astype('category')"
   ]
  },
  {
   "cell_type": "code",
   "execution_count": 36,
   "id": "938db14d-5bcd-4e85-8659-99f5a289f2c0",
   "metadata": {},
   "outputs": [
    {
     "name": "stdout",
     "output_type": "stream",
     "text": [
      "<class 'pandas.core.frame.DataFrame'>\n",
      "RangeIndex: 32404859 entries, 0 to 32404858\n",
      "Data columns (total 20 columns):\n",
      " #   Column                  Dtype   \n",
      "---  ------                  -----   \n",
      " 0   order_id                object  \n",
      " 1   user_id                 object  \n",
      " 2   order_number            int64   \n",
      " 3   orders_day_of_week      category\n",
      " 4   order_hour_of_day       category\n",
      " 5   days_since_prior_order  float64 \n",
      " 6   product_id              object  \n",
      " 7   add_to_cart_order       int64   \n",
      " 8   reordered               int64   \n",
      " 9   product_name            object  \n",
      " 10  aisle_id                category\n",
      " 11  department_id           category\n",
      " 12  prices                  float64 \n",
      " 13  price_range             object  \n",
      " 14  busiest_day             object  \n",
      " 15  day_category            object  \n",
      " 16  busiest_period_of_day   object  \n",
      " 17  loyalty_flag            object  \n",
      " 18  max_order               int64   \n",
      " 19  order_frequency_flag    object  \n",
      "dtypes: category(4), float64(2), int64(4), object(10)\n",
      "memory usage: 4.0+ GB\n"
     ]
    }
   ],
   "source": [
    "ords_prods_merge.info()"
   ]
  },
  {
   "cell_type": "code",
   "execution_count": 37,
   "id": "cfe17a51-cb6d-4825-936c-6183ac57413d",
   "metadata": {},
   "outputs": [
    {
     "data": {
      "text/plain": [
       "order_id                        0\n",
       "user_id                         0\n",
       "order_number                    0\n",
       "orders_day_of_week              0\n",
       "order_hour_of_day               0\n",
       "days_since_prior_order    2076096\n",
       "product_id                      0\n",
       "add_to_cart_order               0\n",
       "reordered                       0\n",
       "product_name                    0\n",
       "aisle_id                        0\n",
       "department_id                   0\n",
       "prices                       5127\n",
       "price_range                     0\n",
       "busiest_day                     0\n",
       "day_category                    0\n",
       "busiest_period_of_day           0\n",
       "loyalty_flag                    0\n",
       "max_order                       0\n",
       "order_frequency_flag            5\n",
       "dtype: int64"
      ]
     },
     "execution_count": 37,
     "metadata": {},
     "output_type": "execute_result"
    }
   ],
   "source": [
    "ords_prods_merge.isnull().sum()"
   ]
  },
  {
   "cell_type": "code",
   "execution_count": 38,
   "id": "82bcf2c6-5c1a-4d01-bb26-9801904d519f",
   "metadata": {},
   "outputs": [
    {
     "data": {
      "text/plain": [
       "np.int64(2076096)"
      ]
     },
     "execution_count": 38,
     "metadata": {},
     "output_type": "execute_result"
    }
   ],
   "source": [
    "ords_prods_merge['days_since_prior_order'].isnull().sum()"
   ]
  },
  {
   "cell_type": "markdown",
   "id": "47e4ae3e-c166-413e-825a-f5e67e4e722c",
   "metadata": {},
   "source": [
    "##### The column days_since_prior_order contains a large number of missing values, which correspond to first orders for each customer. Since there is no previous order to calculate the difference from, these NaN values are meaningful and indicate the start of a customer’s ordering history. Following the tutor’s suggestion, the NaN values were left as-is rather than filled with 0 or another value. This approach preserves the original information, allows accurate calculation of metrics like average days between orders, and avoids introducing artificial bias into the dataset."
   ]
  },
  {
   "cell_type": "code",
   "execution_count": 39,
   "id": "8869d637-241b-4ea1-b391-4d4238bb1265",
   "metadata": {},
   "outputs": [
    {
     "name": "stderr",
     "output_type": "stream",
     "text": [
      "C:\\Users\\ophab\\AppData\\Local\\Temp\\ipykernel_3764\\3932637507.py:3: FutureWarning: A value is trying to be set on a copy of a DataFrame or Series through chained assignment using an inplace method.\n",
      "The behavior will change in pandas 3.0. This inplace method will never work because the intermediate object on which we are setting values always behaves as a copy.\n",
      "\n",
      "For example, when doing 'df[col].method(value, inplace=True)', try using 'df.method({col: value}, inplace=True)' or df[col] = df[col].method(value) instead, to perform the operation inplace on the original object.\n",
      "\n",
      "\n",
      "  ords_prods_merge['prices'].fillna(median_price, inplace=True)\n"
     ]
    }
   ],
   "source": [
    "# Fill missing prices with the median\n",
    "median_price = ords_prods_merge['prices'].median()\n",
    "ords_prods_merge['prices'].fillna(median_price, inplace=True)"
   ]
  },
  {
   "cell_type": "code",
   "execution_count": 40,
   "id": "b59f6b87-b392-4ddf-a389-5482e24657a1",
   "metadata": {},
   "outputs": [
    {
     "data": {
      "text/plain": [
       "np.int64(0)"
      ]
     },
     "execution_count": 40,
     "metadata": {},
     "output_type": "execute_result"
    }
   ],
   "source": [
    "ords_prods_merge['prices'].isnull().sum()"
   ]
  },
  {
   "cell_type": "markdown",
   "id": "de793dac-d511-41af-9995-5ab2f8f11f15",
   "metadata": {},
   "source": [
    "##### The prices column had a few missing values (5,127). These were filled with the median price of the dataset. Using the median preserves the overall distribution and avoids distortion from extreme price values, while preventing loss of rows for analysis."
   ]
  },
  {
   "cell_type": "code",
   "execution_count": 41,
   "id": "c94b0760-f207-4f52-825a-d7c1dd1417a7",
   "metadata": {},
   "outputs": [
    {
     "data": {
      "text/plain": [
       "np.int64(5)"
      ]
     },
     "execution_count": 41,
     "metadata": {},
     "output_type": "execute_result"
    }
   ],
   "source": [
    "ords_prods_merge['order_frequency_flag'].isnull().sum()"
   ]
  },
  {
   "cell_type": "markdown",
   "id": "525c878c-f4f9-4f10-af96-b67db198d443",
   "metadata": {},
   "source": [
    "##### The order_frequency_flag column contains a very small number of missing values (5). These were left as NaN to accurately reflect that the customer’s ordering frequency could not be determined. Leaving them ensures that no artificial information is introduced and that analyses correctly account for unknown cases."
   ]
  },
  {
   "cell_type": "markdown",
   "id": "396eb256-5cf6-40c4-aa0c-b37eae88055d",
   "metadata": {},
   "source": [
    "## Merging Dataframes"
   ]
  },
  {
   "cell_type": "code",
   "execution_count": 42,
   "id": "84daf2a0-e42a-4818-8057-56af56800ded",
   "metadata": {},
   "outputs": [
    {
     "data": {
      "text/plain": [
       "206209"
      ]
     },
     "execution_count": 42,
     "metadata": {},
     "output_type": "execute_result"
    }
   ],
   "source": [
    "customers['user_id'].nunique()"
   ]
  },
  {
   "cell_type": "code",
   "execution_count": 43,
   "id": "ad5a64ca-9c99-401d-80ae-1a2dba4fcd51",
   "metadata": {},
   "outputs": [
    {
     "data": {
      "text/plain": [
       "206209"
      ]
     },
     "execution_count": 43,
     "metadata": {},
     "output_type": "execute_result"
    }
   ],
   "source": [
    "ords_prods_merge['user_id'].nunique()\n"
   ]
  },
  {
   "cell_type": "code",
   "execution_count": 45,
   "id": "fb106e35-c535-4b7c-a096-fd3de8d1c854",
   "metadata": {},
   "outputs": [
    {
     "data": {
      "text/plain": [
       "dtype('O')"
      ]
     },
     "execution_count": 45,
     "metadata": {},
     "output_type": "execute_result"
    }
   ],
   "source": [
    "customers['user_id'].dtype"
   ]
  },
  {
   "cell_type": "code",
   "execution_count": 46,
   "id": "d2782696-e2ee-4298-95ce-363c831d3fea",
   "metadata": {},
   "outputs": [
    {
     "data": {
      "text/plain": [
       "dtype('O')"
      ]
     },
     "execution_count": 46,
     "metadata": {},
     "output_type": "execute_result"
    }
   ],
   "source": [
    "ords_prods_merge['user_id'].dtype"
   ]
  },
  {
   "cell_type": "code",
   "execution_count": 47,
   "id": "be9aed81-045a-4c15-be81-de996d81a6fa",
   "metadata": {},
   "outputs": [],
   "source": [
    "# Merge orders-products dataset with customers dataset\n",
    "ords_prods_cust = ords_prods_merge.merge(customers, on='user_id', how='left')"
   ]
  },
  {
   "cell_type": "code",
   "execution_count": 48,
   "id": "35f44a6d-b5d8-46fb-95bd-3aae3efd5fc1",
   "metadata": {},
   "outputs": [],
   "source": [
    "# Quick checks              "
   ]
  },
  {
   "cell_type": "code",
   "execution_count": 49,
   "id": "c3373ab9-5965-46f8-96ad-da78b7a1402e",
   "metadata": {},
   "outputs": [
    {
     "data": {
      "text/plain": [
       "(32404859, 27)"
      ]
     },
     "execution_count": 49,
     "metadata": {},
     "output_type": "execute_result"
    }
   ],
   "source": [
    "ords_prods_cust.shape "
   ]
  },
  {
   "cell_type": "code",
   "execution_count": 50,
   "id": "3b674afb-98f1-4259-871d-ee5c786177e1",
   "metadata": {},
   "outputs": [
    {
     "data": {
      "text/plain": [
       "user_id      206209\n",
       "order_id    3214685\n",
       "dtype: int64"
      ]
     },
     "execution_count": 50,
     "metadata": {},
     "output_type": "execute_result"
    }
   ],
   "source": [
    "ords_prods_cust[['user_id','order_id']].nunique()"
   ]
  },
  {
   "cell_type": "code",
   "execution_count": 51,
   "id": "3ed55edf-9a9e-4039-b706-4a472a5a8ecd",
   "metadata": {},
   "outputs": [
    {
     "data": {
      "text/plain": [
       "order_id                        0\n",
       "user_id                         0\n",
       "order_number                    0\n",
       "orders_day_of_week              0\n",
       "order_hour_of_day               0\n",
       "days_since_prior_order    2076096\n",
       "product_id                      0\n",
       "add_to_cart_order               0\n",
       "reordered                       0\n",
       "product_name                    0\n",
       "aisle_id                        0\n",
       "department_id                   0\n",
       "prices                          0\n",
       "price_range                     0\n",
       "busiest_day                     0\n",
       "day_category                    0\n",
       "busiest_period_of_day           0\n",
       "loyalty_flag                    0\n",
       "max_order                       0\n",
       "order_frequency_flag            5\n",
       "gender                          0\n",
       "state                           0\n",
       "age                             0\n",
       "date_joined                     0\n",
       "n_dependants                    0\n",
       "fam_status                      0\n",
       "income                          0\n",
       "dtype: int64"
      ]
     },
     "execution_count": 51,
     "metadata": {},
     "output_type": "execute_result"
    }
   ],
   "source": [
    "ords_prods_cust.isnull().sum() "
   ]
  },
  {
   "cell_type": "markdown",
   "id": "66abfaa7-1a56-4484-8f83-7eb406a9f70d",
   "metadata": {},
   "source": [
    "##### The merged dataset contains 206,209 unique customers and 3,214,685 orders, confirming that all users from the customers dataset are represented and the merge was successful."
   ]
  },
  {
   "cell_type": "code",
   "execution_count": 54,
   "id": "757b648a-eeec-4f4e-8160-3be7d76ee3d1",
   "metadata": {},
   "outputs": [],
   "source": [
    "ords_prods_cust.to_pickle(os.path.join(path, '02 Data','Prepared Data', 'ords_prods_cust_merged.pkl'))"
   ]
  },
  {
   "cell_type": "code",
   "execution_count": null,
   "id": "4016cc2a-17bd-484c-b563-b33aaf05926c",
   "metadata": {},
   "outputs": [],
   "source": []
  }
 ],
 "metadata": {
  "kernelspec": {
   "display_name": "Python 3 (ipykernel)",
   "language": "python",
   "name": "python3"
  },
  "language_info": {
   "codemirror_mode": {
    "name": "ipython",
    "version": 3
   },
   "file_extension": ".py",
   "mimetype": "text/x-python",
   "name": "python",
   "nbconvert_exporter": "python",
   "pygments_lexer": "ipython3",
   "version": "3.13.5"
  }
 },
 "nbformat": 4,
 "nbformat_minor": 5
}
